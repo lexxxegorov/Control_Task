{
  "nbformat": 4,
  "nbformat_minor": 0,
  "metadata": {
    "colab": {
      "provenance": [],
      "collapsed_sections": [],
      "authorship_tag": "ABX9TyNhRRN6rG0QHB/N/k9JJprC",
      "include_colab_link": true
    },
    "kernelspec": {
      "name": "python3",
      "display_name": "Python 3"
    },
    "language_info": {
      "name": "python"
    }
  },
  "cells": [
    {
      "cell_type": "markdown",
      "metadata": {
        "id": "view-in-github",
        "colab_type": "text"
      },
      "source": [
        "<a href=\"https://colab.research.google.com/github/lexxxegorov/Control_Task/blob/master/Task1_2_(7).ipynb\" target=\"_parent\"><img src=\"https://colab.research.google.com/assets/colab-badge.svg\" alt=\"Open In Colab\"/></a>"
      ]
    },
    {
      "cell_type": "code",
      "source": [
        "\n",
        "import numpy as np \n",
        "import scipy.stats as stats"
      ],
      "metadata": {
        "id": "S2xEiuZscFJm"
      },
      "execution_count": null,
      "outputs": []
    },
    {
      "cell_type": "markdown",
      "source": [
        "1 ) Даны две независимые выборки. Не соблюдается условие нормальности\n",
        "x1 380,420, 290\n",
        "y1 140,360,200,900\n",
        "Сделайте вывод по результатам, полученным с помощью функции"
      ],
      "metadata": {
        "id": "FsVgAo3KcKCz"
      }
    },
    {
      "cell_type": "code",
      "source": [
        "X1 = np.array([380,420, 290])\n",
        "Y1 = np.array([140,360,200,900])\n",
        "\n",
        "stats.mannwhitneyu(X1, Y1)"
      ],
      "metadata": {
        "colab": {
          "base_uri": "https://localhost:8080/"
        },
        "id": "9VGJ_jbFcL1N",
        "outputId": "052d98b6-de0d-42ac-c991-fd9cf30b99ce"
      },
      "execution_count": null,
      "outputs": [
        {
          "output_type": "execute_result",
          "data": {
            "text/plain": [
              "MannwhitneyuResult(statistic=8.0, pvalue=0.6285714285714286)"
            ]
          },
          "metadata": {},
          "execution_count": 7
        }
      ]
    },
    {
      "cell_type": "markdown",
      "source": [
        "pvalue > alfa \n",
        "принимаем нулевую гипотезу, статических различий нет."
      ],
      "metadata": {
        "id": "5OPNcJmFfWtJ"
      }
    },
    {
      "cell_type": "markdown",
      "source": [
        "2 ) Исследовалось влияние препарата на уровень давления пациентов. Сначала измерялось давление до приема препарата, потом через 10 минут и через 30 минут. Есть ли статистически значимые различия?\n",
        "1е измерение до приема препарата: 150, 160, 165, 145, 155\n",
        "2е измерение через 10 минут: 140, 155, 150, 130, 135\n",
        "3е измерение через 30 минут: 130, 130, 120, 130, 125"
      ],
      "metadata": {
        "id": "CuwUqTrGg_T_"
      }
    },
    {
      "cell_type": "code",
      "source": [
        "before = np.array([150, 160, 165, 145, 155])\n",
        "first  = np.array([140, 155, 150, 130, 135])\n",
        "second = np.array([130, 130, 120, 130, 125])\n",
        "stats.friedmanchisquare(before, first, second )"
      ],
      "metadata": {
        "colab": {
          "base_uri": "https://localhost:8080/"
        },
        "id": "KXDlCu96hFvB",
        "outputId": "633eeec9-c220-4aab-ab35-10bb0025ef76"
      },
      "execution_count": null,
      "outputs": [
        {
          "output_type": "execute_result",
          "data": {
            "text/plain": [
              "FriedmanchisquareResult(statistic=9.578947368421062, pvalue=0.00831683351100441)"
            ]
          },
          "metadata": {},
          "execution_count": 8
        }
      ]
    },
    {
      "cell_type": "markdown",
      "source": [
        "pvalue < alfa, принимаем алтернативную гипотезу. Есть статистические различия. Препарат влияет на уровень давления. "
      ],
      "metadata": {
        "id": "ehUruCTziiSm"
      }
    },
    {
      "cell_type": "markdown",
      "source": [
        "3 ) Сравните 1 и 2 е измерения, предполагая, что 3го измерения через 30 минут не было."
      ],
      "metadata": {
        "id": "sCGnhkiBjF12"
      }
    },
    {
      "cell_type": "code",
      "source": [
        "before = np.array([150, 160, 165, 145, 155])\n",
        "first  = np.array([140, 155, 150, 130, 135])\n",
        "stats.wilcoxon(before, first)\n"
      ],
      "metadata": {
        "colab": {
          "base_uri": "https://localhost:8080/"
        },
        "id": "B2ar283Aifh-",
        "outputId": "8d34633b-8d42-4e16-f762-ec13370e249c"
      },
      "execution_count": null,
      "outputs": [
        {
          "output_type": "execute_result",
          "data": {
            "text/plain": [
              "WilcoxonResult(statistic=0.0, pvalue=0.0625)"
            ]
          },
          "metadata": {},
          "execution_count": 9
        }
      ]
    },
    {
      "cell_type": "markdown",
      "source": [
        "pvalue > alfa, принимаем нулевую гипотезу. Нет статистические различий. Препарат не влияет на уровень давления, но исходя из предыдущего задания можно сделать вывод, что препарат начинает действовать через 30 минут "
      ],
      "metadata": {
        "id": "6nSA-wolj7dv"
      }
    },
    {
      "cell_type": "markdown",
      "source": [
        "4) Даны 3 группы учеников плавания.\n",
        "В 1 группе время на дистанцию 50 м составляют:\n",
        "56, 60, 62, 55, 71, 67, 59, 58, 64, 67\n",
        "Вторая группа : 57, 58, 69, 48, 72, 70, 68, 71, 50, 53\n",
        "Третья группа: 57, 67, 49, 48, 47, 55, 66, 51, 54"
      ],
      "metadata": {
        "id": "gMfXmWrZkh3e"
      }
    },
    {
      "cell_type": "code",
      "source": [
        "gr1 = np.array([56, 60, 62, 55, 71, 67, 59, 58, 64, 67])\n",
        "gr2 = np.array([57, 58, 69, 48, 72, 70, 68, 71, 50, 53])\n",
        "gr3 = np.array([57, 67, 49, 48, 47, 55, 66, 51, 54])\n",
        "\n",
        "stats.kruskal(gr1, gr2, gr3)"
      ],
      "metadata": {
        "colab": {
          "base_uri": "https://localhost:8080/"
        },
        "id": "8VuWCLkAlMWS",
        "outputId": "8844141d-69e7-484b-bbbe-4a1aec1837c6"
      },
      "execution_count": null,
      "outputs": [
        {
          "output_type": "execute_result",
          "data": {
            "text/plain": [
              "KruskalResult(statistic=5.465564058257224, pvalue=0.0650380998590494)"
            ]
          },
          "metadata": {},
          "execution_count": 10
        }
      ]
    },
    {
      "cell_type": "markdown",
      "source": [
        "pvalue > alfa, принимаем нулевую гипотезу. Нет статистические различий."
      ],
      "metadata": {
        "id": "UlJj2a6Glurs"
      }
    }
  ]
}